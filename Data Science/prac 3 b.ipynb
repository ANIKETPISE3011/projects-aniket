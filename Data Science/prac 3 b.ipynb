{
 "cells": [
  {
   "cell_type": "code",
   "execution_count": 1,
   "id": "e57416c0",
   "metadata": {},
   "outputs": [],
   "source": [
    "import numpy as np\n",
    "import pandas as pd\n",
    "import matplotlib.pyplot as plt\n",
    "import seaborn as sns\n",
    "from sklearn.model_selection import train_test_split\n",
    "from sklearn.ensemble import RandomForestRegressor\n",
    "from sklearn import metrics"
   ]
  },
  {
   "cell_type": "code",
   "execution_count": 2,
   "id": "2efc2a74",
   "metadata": {},
   "outputs": [],
   "source": [
    "# loading the csv data to a Pandas DataFrame\n",
    "gold_data = pd.read_csv('gld_price_data.csv')\n",
    "     "
   ]
  },
  {
   "cell_type": "code",
   "execution_count": 3,
   "id": "e8ac980b",
   "metadata": {},
   "outputs": [
    {
     "data": {
      "text/html": [
       "<div>\n",
       "<style scoped>\n",
       "    .dataframe tbody tr th:only-of-type {\n",
       "        vertical-align: middle;\n",
       "    }\n",
       "\n",
       "    .dataframe tbody tr th {\n",
       "        vertical-align: top;\n",
       "    }\n",
       "\n",
       "    .dataframe thead th {\n",
       "        text-align: right;\n",
       "    }\n",
       "</style>\n",
       "<table border=\"1\" class=\"dataframe\">\n",
       "  <thead>\n",
       "    <tr style=\"text-align: right;\">\n",
       "      <th></th>\n",
       "      <th>Date</th>\n",
       "      <th>SPX</th>\n",
       "      <th>GLD</th>\n",
       "      <th>USO</th>\n",
       "      <th>SLV</th>\n",
       "      <th>EUR/USD</th>\n",
       "    </tr>\n",
       "  </thead>\n",
       "  <tbody>\n",
       "    <tr>\n",
       "      <th>0</th>\n",
       "      <td>1/2/2008</td>\n",
       "      <td>1447.160034</td>\n",
       "      <td>84.860001</td>\n",
       "      <td>78.470001</td>\n",
       "      <td>15.180</td>\n",
       "      <td>1.471692</td>\n",
       "    </tr>\n",
       "    <tr>\n",
       "      <th>1</th>\n",
       "      <td>1/3/2008</td>\n",
       "      <td>1447.160034</td>\n",
       "      <td>85.570000</td>\n",
       "      <td>78.370003</td>\n",
       "      <td>15.285</td>\n",
       "      <td>1.474491</td>\n",
       "    </tr>\n",
       "    <tr>\n",
       "      <th>2</th>\n",
       "      <td>1/4/2008</td>\n",
       "      <td>1411.630005</td>\n",
       "      <td>85.129997</td>\n",
       "      <td>77.309998</td>\n",
       "      <td>15.167</td>\n",
       "      <td>1.475492</td>\n",
       "    </tr>\n",
       "    <tr>\n",
       "      <th>3</th>\n",
       "      <td>1/7/2008</td>\n",
       "      <td>1416.180054</td>\n",
       "      <td>84.769997</td>\n",
       "      <td>75.500000</td>\n",
       "      <td>15.053</td>\n",
       "      <td>1.468299</td>\n",
       "    </tr>\n",
       "    <tr>\n",
       "      <th>4</th>\n",
       "      <td>1/8/2008</td>\n",
       "      <td>1390.189941</td>\n",
       "      <td>86.779999</td>\n",
       "      <td>76.059998</td>\n",
       "      <td>15.590</td>\n",
       "      <td>1.557099</td>\n",
       "    </tr>\n",
       "  </tbody>\n",
       "</table>\n",
       "</div>"
      ],
      "text/plain": [
       "       Date          SPX        GLD        USO     SLV   EUR/USD\n",
       "0  1/2/2008  1447.160034  84.860001  78.470001  15.180  1.471692\n",
       "1  1/3/2008  1447.160034  85.570000  78.370003  15.285  1.474491\n",
       "2  1/4/2008  1411.630005  85.129997  77.309998  15.167  1.475492\n",
       "3  1/7/2008  1416.180054  84.769997  75.500000  15.053  1.468299\n",
       "4  1/8/2008  1390.189941  86.779999  76.059998  15.590  1.557099"
      ]
     },
     "execution_count": 3,
     "metadata": {},
     "output_type": "execute_result"
    }
   ],
   "source": [
    "# print first 5 rows in the dataframe\n",
    "gold_data.head()\n",
    "     "
   ]
  },
  {
   "cell_type": "code",
   "execution_count": 4,
   "id": "739c3a6f",
   "metadata": {},
   "outputs": [
    {
     "data": {
      "text/html": [
       "<div>\n",
       "<style scoped>\n",
       "    .dataframe tbody tr th:only-of-type {\n",
       "        vertical-align: middle;\n",
       "    }\n",
       "\n",
       "    .dataframe tbody tr th {\n",
       "        vertical-align: top;\n",
       "    }\n",
       "\n",
       "    .dataframe thead th {\n",
       "        text-align: right;\n",
       "    }\n",
       "</style>\n",
       "<table border=\"1\" class=\"dataframe\">\n",
       "  <thead>\n",
       "    <tr style=\"text-align: right;\">\n",
       "      <th></th>\n",
       "      <th>Date</th>\n",
       "      <th>SPX</th>\n",
       "      <th>GLD</th>\n",
       "      <th>USO</th>\n",
       "      <th>SLV</th>\n",
       "      <th>EUR/USD</th>\n",
       "    </tr>\n",
       "  </thead>\n",
       "  <tbody>\n",
       "    <tr>\n",
       "      <th>2285</th>\n",
       "      <td>5/8/2018</td>\n",
       "      <td>2671.919922</td>\n",
       "      <td>124.589996</td>\n",
       "      <td>14.0600</td>\n",
       "      <td>15.5100</td>\n",
       "      <td>1.186789</td>\n",
       "    </tr>\n",
       "    <tr>\n",
       "      <th>2286</th>\n",
       "      <td>5/9/2018</td>\n",
       "      <td>2697.790039</td>\n",
       "      <td>124.330002</td>\n",
       "      <td>14.3700</td>\n",
       "      <td>15.5300</td>\n",
       "      <td>1.184722</td>\n",
       "    </tr>\n",
       "    <tr>\n",
       "      <th>2287</th>\n",
       "      <td>5/10/2018</td>\n",
       "      <td>2723.070068</td>\n",
       "      <td>125.180000</td>\n",
       "      <td>14.4100</td>\n",
       "      <td>15.7400</td>\n",
       "      <td>1.191753</td>\n",
       "    </tr>\n",
       "    <tr>\n",
       "      <th>2288</th>\n",
       "      <td>5/14/2018</td>\n",
       "      <td>2730.129883</td>\n",
       "      <td>124.489998</td>\n",
       "      <td>14.3800</td>\n",
       "      <td>15.5600</td>\n",
       "      <td>1.193118</td>\n",
       "    </tr>\n",
       "    <tr>\n",
       "      <th>2289</th>\n",
       "      <td>5/16/2018</td>\n",
       "      <td>2725.780029</td>\n",
       "      <td>122.543800</td>\n",
       "      <td>14.4058</td>\n",
       "      <td>15.4542</td>\n",
       "      <td>1.182033</td>\n",
       "    </tr>\n",
       "  </tbody>\n",
       "</table>\n",
       "</div>"
      ],
      "text/plain": [
       "           Date          SPX         GLD      USO      SLV   EUR/USD\n",
       "2285   5/8/2018  2671.919922  124.589996  14.0600  15.5100  1.186789\n",
       "2286   5/9/2018  2697.790039  124.330002  14.3700  15.5300  1.184722\n",
       "2287  5/10/2018  2723.070068  125.180000  14.4100  15.7400  1.191753\n",
       "2288  5/14/2018  2730.129883  124.489998  14.3800  15.5600  1.193118\n",
       "2289  5/16/2018  2725.780029  122.543800  14.4058  15.4542  1.182033"
      ]
     },
     "execution_count": 4,
     "metadata": {},
     "output_type": "execute_result"
    }
   ],
   "source": [
    "# print last 5 rows of the dataframe\n",
    "gold_data.tail()"
   ]
  },
  {
   "cell_type": "code",
   "execution_count": 5,
   "id": "e5ec2b0c",
   "metadata": {},
   "outputs": [
    {
     "data": {
      "text/plain": [
       "(2290, 6)"
      ]
     },
     "execution_count": 5,
     "metadata": {},
     "output_type": "execute_result"
    }
   ],
   "source": [
    "# number of rows and columns\n",
    "gold_data.shape"
   ]
  },
  {
   "cell_type": "code",
   "execution_count": 6,
   "id": "495d8baa",
   "metadata": {},
   "outputs": [
    {
     "name": "stdout",
     "output_type": "stream",
     "text": [
      "<class 'pandas.core.frame.DataFrame'>\n",
      "RangeIndex: 2290 entries, 0 to 2289\n",
      "Data columns (total 6 columns):\n",
      " #   Column   Non-Null Count  Dtype  \n",
      "---  ------   --------------  -----  \n",
      " 0   Date     2290 non-null   object \n",
      " 1   SPX      2290 non-null   float64\n",
      " 2   GLD      2290 non-null   float64\n",
      " 3   USO      2290 non-null   float64\n",
      " 4   SLV      2290 non-null   float64\n",
      " 5   EUR/USD  2290 non-null   float64\n",
      "dtypes: float64(5), object(1)\n",
      "memory usage: 107.5+ KB\n"
     ]
    }
   ],
   "source": [
    "# getting some basic informations about the data\n",
    "gold_data.info()"
   ]
  },
  {
   "cell_type": "code",
   "execution_count": 7,
   "id": "4580e940",
   "metadata": {},
   "outputs": [
    {
     "data": {
      "text/plain": [
       "Date       0\n",
       "SPX        0\n",
       "GLD        0\n",
       "USO        0\n",
       "SLV        0\n",
       "EUR/USD    0\n",
       "dtype: int64"
      ]
     },
     "execution_count": 7,
     "metadata": {},
     "output_type": "execute_result"
    }
   ],
   "source": [
    "# checking the number of missing values\n",
    "gold_data.isnull().sum()\n",
    "     "
   ]
  },
  {
   "cell_type": "code",
   "execution_count": 8,
   "id": "2ce896e8",
   "metadata": {},
   "outputs": [
    {
     "data": {
      "text/html": [
       "<div>\n",
       "<style scoped>\n",
       "    .dataframe tbody tr th:only-of-type {\n",
       "        vertical-align: middle;\n",
       "    }\n",
       "\n",
       "    .dataframe tbody tr th {\n",
       "        vertical-align: top;\n",
       "    }\n",
       "\n",
       "    .dataframe thead th {\n",
       "        text-align: right;\n",
       "    }\n",
       "</style>\n",
       "<table border=\"1\" class=\"dataframe\">\n",
       "  <thead>\n",
       "    <tr style=\"text-align: right;\">\n",
       "      <th></th>\n",
       "      <th>SPX</th>\n",
       "      <th>GLD</th>\n",
       "      <th>USO</th>\n",
       "      <th>SLV</th>\n",
       "      <th>EUR/USD</th>\n",
       "    </tr>\n",
       "  </thead>\n",
       "  <tbody>\n",
       "    <tr>\n",
       "      <th>count</th>\n",
       "      <td>2290.000000</td>\n",
       "      <td>2290.000000</td>\n",
       "      <td>2290.000000</td>\n",
       "      <td>2290.000000</td>\n",
       "      <td>2290.000000</td>\n",
       "    </tr>\n",
       "    <tr>\n",
       "      <th>mean</th>\n",
       "      <td>1654.315776</td>\n",
       "      <td>122.732875</td>\n",
       "      <td>31.842221</td>\n",
       "      <td>20.084997</td>\n",
       "      <td>1.283653</td>\n",
       "    </tr>\n",
       "    <tr>\n",
       "      <th>std</th>\n",
       "      <td>519.111540</td>\n",
       "      <td>23.283346</td>\n",
       "      <td>19.523517</td>\n",
       "      <td>7.092566</td>\n",
       "      <td>0.131547</td>\n",
       "    </tr>\n",
       "    <tr>\n",
       "      <th>min</th>\n",
       "      <td>676.530029</td>\n",
       "      <td>70.000000</td>\n",
       "      <td>7.960000</td>\n",
       "      <td>8.850000</td>\n",
       "      <td>1.039047</td>\n",
       "    </tr>\n",
       "    <tr>\n",
       "      <th>25%</th>\n",
       "      <td>1239.874969</td>\n",
       "      <td>109.725000</td>\n",
       "      <td>14.380000</td>\n",
       "      <td>15.570000</td>\n",
       "      <td>1.171313</td>\n",
       "    </tr>\n",
       "    <tr>\n",
       "      <th>50%</th>\n",
       "      <td>1551.434998</td>\n",
       "      <td>120.580002</td>\n",
       "      <td>33.869999</td>\n",
       "      <td>17.268500</td>\n",
       "      <td>1.303297</td>\n",
       "    </tr>\n",
       "    <tr>\n",
       "      <th>75%</th>\n",
       "      <td>2073.010070</td>\n",
       "      <td>132.840004</td>\n",
       "      <td>37.827501</td>\n",
       "      <td>22.882500</td>\n",
       "      <td>1.369971</td>\n",
       "    </tr>\n",
       "    <tr>\n",
       "      <th>max</th>\n",
       "      <td>2872.870117</td>\n",
       "      <td>184.589996</td>\n",
       "      <td>117.480003</td>\n",
       "      <td>47.259998</td>\n",
       "      <td>1.598798</td>\n",
       "    </tr>\n",
       "  </tbody>\n",
       "</table>\n",
       "</div>"
      ],
      "text/plain": [
       "               SPX          GLD          USO          SLV      EUR/USD\n",
       "count  2290.000000  2290.000000  2290.000000  2290.000000  2290.000000\n",
       "mean   1654.315776   122.732875    31.842221    20.084997     1.283653\n",
       "std     519.111540    23.283346    19.523517     7.092566     0.131547\n",
       "min     676.530029    70.000000     7.960000     8.850000     1.039047\n",
       "25%    1239.874969   109.725000    14.380000    15.570000     1.171313\n",
       "50%    1551.434998   120.580002    33.869999    17.268500     1.303297\n",
       "75%    2073.010070   132.840004    37.827501    22.882500     1.369971\n",
       "max    2872.870117   184.589996   117.480003    47.259998     1.598798"
      ]
     },
     "execution_count": 8,
     "metadata": {},
     "output_type": "execute_result"
    }
   ],
   "source": [
    "# getting the statistical measures of the data\n",
    "gold_data.describe()"
   ]
  },
  {
   "cell_type": "code",
   "execution_count": 9,
   "id": "8835bbeb",
   "metadata": {},
   "outputs": [],
   "source": [
    "correlation = gold_data.corr()"
   ]
  },
  {
   "cell_type": "code",
   "execution_count": 18,
   "id": "d0fc60d5",
   "metadata": {},
   "outputs": [
    {
     "data": {
      "text/html": [
       "<div>\n",
       "<style scoped>\n",
       "    .dataframe tbody tr th:only-of-type {\n",
       "        vertical-align: middle;\n",
       "    }\n",
       "\n",
       "    .dataframe tbody tr th {\n",
       "        vertical-align: top;\n",
       "    }\n",
       "\n",
       "    .dataframe thead th {\n",
       "        text-align: right;\n",
       "    }\n",
       "</style>\n",
       "<table border=\"1\" class=\"dataframe\">\n",
       "  <thead>\n",
       "    <tr style=\"text-align: right;\">\n",
       "      <th></th>\n",
       "      <th>Date</th>\n",
       "      <th>SPX</th>\n",
       "      <th>GLD</th>\n",
       "      <th>USO</th>\n",
       "      <th>SLV</th>\n",
       "      <th>EUR/USD</th>\n",
       "    </tr>\n",
       "  </thead>\n",
       "  <tbody>\n",
       "    <tr>\n",
       "      <th>0</th>\n",
       "      <td>1/2/2008</td>\n",
       "      <td>1447.160034</td>\n",
       "      <td>84.860001</td>\n",
       "      <td>78.470001</td>\n",
       "      <td>15.1800</td>\n",
       "      <td>1.471692</td>\n",
       "    </tr>\n",
       "    <tr>\n",
       "      <th>1</th>\n",
       "      <td>1/3/2008</td>\n",
       "      <td>1447.160034</td>\n",
       "      <td>85.570000</td>\n",
       "      <td>78.370003</td>\n",
       "      <td>15.2850</td>\n",
       "      <td>1.474491</td>\n",
       "    </tr>\n",
       "    <tr>\n",
       "      <th>2</th>\n",
       "      <td>1/4/2008</td>\n",
       "      <td>1411.630005</td>\n",
       "      <td>85.129997</td>\n",
       "      <td>77.309998</td>\n",
       "      <td>15.1670</td>\n",
       "      <td>1.475492</td>\n",
       "    </tr>\n",
       "    <tr>\n",
       "      <th>3</th>\n",
       "      <td>1/7/2008</td>\n",
       "      <td>1416.180054</td>\n",
       "      <td>84.769997</td>\n",
       "      <td>75.500000</td>\n",
       "      <td>15.0530</td>\n",
       "      <td>1.468299</td>\n",
       "    </tr>\n",
       "    <tr>\n",
       "      <th>4</th>\n",
       "      <td>1/8/2008</td>\n",
       "      <td>1390.189941</td>\n",
       "      <td>86.779999</td>\n",
       "      <td>76.059998</td>\n",
       "      <td>15.5900</td>\n",
       "      <td>1.557099</td>\n",
       "    </tr>\n",
       "    <tr>\n",
       "      <th>...</th>\n",
       "      <td>...</td>\n",
       "      <td>...</td>\n",
       "      <td>...</td>\n",
       "      <td>...</td>\n",
       "      <td>...</td>\n",
       "      <td>...</td>\n",
       "    </tr>\n",
       "    <tr>\n",
       "      <th>2285</th>\n",
       "      <td>5/8/2018</td>\n",
       "      <td>2671.919922</td>\n",
       "      <td>124.589996</td>\n",
       "      <td>14.060000</td>\n",
       "      <td>15.5100</td>\n",
       "      <td>1.186789</td>\n",
       "    </tr>\n",
       "    <tr>\n",
       "      <th>2286</th>\n",
       "      <td>5/9/2018</td>\n",
       "      <td>2697.790039</td>\n",
       "      <td>124.330002</td>\n",
       "      <td>14.370000</td>\n",
       "      <td>15.5300</td>\n",
       "      <td>1.184722</td>\n",
       "    </tr>\n",
       "    <tr>\n",
       "      <th>2287</th>\n",
       "      <td>5/10/2018</td>\n",
       "      <td>2723.070068</td>\n",
       "      <td>125.180000</td>\n",
       "      <td>14.410000</td>\n",
       "      <td>15.7400</td>\n",
       "      <td>1.191753</td>\n",
       "    </tr>\n",
       "    <tr>\n",
       "      <th>2288</th>\n",
       "      <td>5/14/2018</td>\n",
       "      <td>2730.129883</td>\n",
       "      <td>124.489998</td>\n",
       "      <td>14.380000</td>\n",
       "      <td>15.5600</td>\n",
       "      <td>1.193118</td>\n",
       "    </tr>\n",
       "    <tr>\n",
       "      <th>2289</th>\n",
       "      <td>5/16/2018</td>\n",
       "      <td>2725.780029</td>\n",
       "      <td>122.543800</td>\n",
       "      <td>14.405800</td>\n",
       "      <td>15.4542</td>\n",
       "      <td>1.182033</td>\n",
       "    </tr>\n",
       "  </tbody>\n",
       "</table>\n",
       "<p>2290 rows × 6 columns</p>\n",
       "</div>"
      ],
      "text/plain": [
       "           Date          SPX         GLD        USO      SLV   EUR/USD\n",
       "0      1/2/2008  1447.160034   84.860001  78.470001  15.1800  1.471692\n",
       "1      1/3/2008  1447.160034   85.570000  78.370003  15.2850  1.474491\n",
       "2      1/4/2008  1411.630005   85.129997  77.309998  15.1670  1.475492\n",
       "3      1/7/2008  1416.180054   84.769997  75.500000  15.0530  1.468299\n",
       "4      1/8/2008  1390.189941   86.779999  76.059998  15.5900  1.557099\n",
       "...         ...          ...         ...        ...      ...       ...\n",
       "2285   5/8/2018  2671.919922  124.589996  14.060000  15.5100  1.186789\n",
       "2286   5/9/2018  2697.790039  124.330002  14.370000  15.5300  1.184722\n",
       "2287  5/10/2018  2723.070068  125.180000  14.410000  15.7400  1.191753\n",
       "2288  5/14/2018  2730.129883  124.489998  14.380000  15.5600  1.193118\n",
       "2289  5/16/2018  2725.780029  122.543800  14.405800  15.4542  1.182033\n",
       "\n",
       "[2290 rows x 6 columns]"
      ]
     },
     "execution_count": 18,
     "metadata": {},
     "output_type": "execute_result"
    }
   ],
   "source": [
    "gold_data"
   ]
  },
  {
   "cell_type": "code",
   "execution_count": 10,
   "id": "292b929a",
   "metadata": {},
   "outputs": [
    {
     "data": {
      "text/plain": [
       "<AxesSubplot:>"
      ]
     },
     "execution_count": 10,
     "metadata": {},
     "output_type": "execute_result"
    },
    {
     "data": {
      "image/png": "[encoded data removed]",
      "text/plain": [
       "<Figure size 800x800 with 2 Axes>"
      ]
     },
     "metadata": {},
     "output_type": "display_data"
    }
   ],
   "source": [
    "# constructing a heatmap to understand the correlatiom\n",
    "plt.figure(figsize = (8,8))\n",
    "sns.heatmap(correlation, cbar=True, square=True, fmt='.1f',annot=True, annot_kws={'size':8}, cmap='Blues')"
   ]
  },
  {
   "cell_type": "code",
   "execution_count": 11,
   "id": "778f70be",
   "metadata": {},
   "outputs": [
    {
     "name": "stdout",
     "output_type": "stream",
     "text": [
      "SPX        0.049345\n",
      "GLD        1.000000\n",
      "USO       -0.186360\n",
      "SLV        0.866632\n",
      "EUR/USD   -0.024375\n",
      "Name: GLD, dtype: float64\n"
     ]
    }
   ],
   "source": [
    "# correlation values of GLD\n",
    "print(correlation['GLD'])\n",
    "     "
   ]
  },
  {
   "cell_type": "code",
   "execution_count": 12,
   "id": "75660a9c",
   "metadata": {},
   "outputs": [
    {
     "name": "stderr",
     "output_type": "stream",
     "text": [
      "C:\\Users\\anike\\anaconda3\\lib\\site-packages\\seaborn\\distributions.py:2619: FutureWarning: `distplot` is a deprecated function and will be removed in a future version. Please adapt your code to use either `displot` (a figure-level function with similar flexibility) or `histplot` (an axes-level function for histograms).\n",
      "  warnings.warn(msg, FutureWarning)\n"
     ]
    },
    {
     "data": {
      "text/plain": [
       "<AxesSubplot:xlabel='GLD', ylabel='Density'>"
      ]
     },
     "execution_count": 12,
     "metadata": {},
     "output_type": "execute_result"
    },
    {
     "data": {
      "image/png": "[encoded data removed]",
      "text/plain": [
       "<Figure size 640x480 with 1 Axes>"
      ]
     },
     "metadata": {},
     "output_type": "display_data"
    }
   ],
   "source": [
    "# checking the distribution of the GLD Price\n",
    "sns.distplot(gold_data['GLD'],color='green')\n",
    "     "
   ]
  },
  {
   "cell_type": "code",
   "execution_count": 13,
   "id": "83a3a12e",
   "metadata": {},
   "outputs": [],
   "source": [
    "X = gold_data.drop(['Date','GLD'],axis=1)\n",
    "Y = gold_data['GLD']"
   ]
  },
  {
   "cell_type": "code",
   "execution_count": 14,
   "id": "982fc93a",
   "metadata": {},
   "outputs": [
    {
     "name": "stdout",
     "output_type": "stream",
     "text": [
      "              SPX        USO      SLV   EUR/USD\n",
      "0     1447.160034  78.470001  15.1800  1.471692\n",
      "1     1447.160034  78.370003  15.2850  1.474491\n",
      "2     1411.630005  77.309998  15.1670  1.475492\n",
      "3     1416.180054  75.500000  15.0530  1.468299\n",
      "4     1390.189941  76.059998  15.5900  1.557099\n",
      "...           ...        ...      ...       ...\n",
      "2285  2671.919922  14.060000  15.5100  1.186789\n",
      "2286  2697.790039  14.370000  15.5300  1.184722\n",
      "2287  2723.070068  14.410000  15.7400  1.191753\n",
      "2288  2730.129883  14.380000  15.5600  1.193118\n",
      "2289  2725.780029  14.405800  15.4542  1.182033\n",
      "\n",
      "[2290 rows x 4 columns]\n"
     ]
    }
   ],
   "source": [
    "print(X)"
   ]
  },
  {
   "cell_type": "code",
   "execution_count": 15,
   "id": "db98dcea",
   "metadata": {},
   "outputs": [
    {
     "name": "stdout",
     "output_type": "stream",
     "text": [
      "0        84.860001\n",
      "1        85.570000\n",
      "2        85.129997\n",
      "3        84.769997\n",
      "4        86.779999\n",
      "           ...    \n",
      "2285    124.589996\n",
      "2286    124.330002\n",
      "2287    125.180000\n",
      "2288    124.489998\n",
      "2289    122.543800\n",
      "Name: GLD, Length: 2290, dtype: float64\n"
     ]
    }
   ],
   "source": [
    "print(Y)\n",
    "     "
   ]
  },
  {
   "cell_type": "code",
   "execution_count": 16,
   "id": "1f1745f9",
   "metadata": {},
   "outputs": [],
   "source": [
    "X_train, X_test, Y_train, Y_test = train_test_split(X, Y, test_size = 0.2, random_state=2)"
   ]
  },
  {
   "cell_type": "code",
   "execution_count": 17,
   "id": "e298a4b4",
   "metadata": {},
   "outputs": [],
   "source": [
    "regressor = RandomForestRegressor(n_estimators=100)\n",
    "     "
   ]
  },
  {
   "cell_type": "code",
   "execution_count": 18,
   "id": "31e94097",
   "metadata": {},
   "outputs": [
    {
     "data": {
      "text/plain": [
       "RandomForestRegressor()"
      ]
     },
     "execution_count": 18,
     "metadata": {},
     "output_type": "execute_result"
    }
   ],
   "source": [
    "# training the model\n",
    "regressor.fit(X_train,Y_train)"
   ]
  },
  {
   "cell_type": "code",
   "execution_count": 19,
   "id": "a60825b4",
   "metadata": {},
   "outputs": [],
   "source": [
    "# prediction on Test Data\n",
    "test_data_prediction = regressor.predict(X_test)"
   ]
  },
  {
   "cell_type": "code",
   "execution_count": 20,
   "id": "b2435e84",
   "metadata": {},
   "outputs": [
    {
     "name": "stdout",
     "output_type": "stream",
     "text": [
      "[168.30129962  81.98000005 116.02889964 127.52860119 120.8845014\n",
      " 154.78279828 149.79279876 126.06120013 117.46209881 126.00910077\n",
      " 116.79610059 171.35470107 141.85339906 168.08239877 115.19210031\n",
      " 117.59040037 140.04750318 170.16550098 159.43710329 159.24960009\n",
      " 154.93450021 125.15750018 175.54419928 157.14460268 125.15890024\n",
      "  93.81229965  77.51880009 120.9105001  119.11939975 167.45559937\n",
      "  88.1504004  125.36280005  91.28630086 117.82470016 121.18059895\n",
      " 136.85630087 115.54010138 115.0803004  146.72629977 107.26200053\n",
      " 104.45950261  87.14599768 126.6142003  117.99109991 154.13249909\n",
      " 119.45430009 108.33059977 108.19009832  93.13180041 127.16349778\n",
      "  74.71360053 113.62309927 121.49590027 111.31949921 118.86929882\n",
      " 120.88859938 159.25280052 168.7219011  146.80509701  85.85779877\n",
      "  94.06610034  86.80159923  90.37799996 118.92780063 126.47860065\n",
      " 127.55410018 170.97610007 122.21809922 117.5933991   98.34279996\n",
      " 166.8669019  143.5298986  132.03620223 121.14720231 120.96509959\n",
      " 119.70880053 114.59830122 118.34070028 107.21110079 127.87950082\n",
      " 113.79649959 107.13899975 116.79800045 119.58069868  89.15790037\n",
      "  88.29179914 147.16690169 127.31299991 113.52490049 109.9238984\n",
      " 108.04109897  77.28489922 169.07670165 114.05079919 121.73019875\n",
      " 127.96570185 155.07709793  91.83159966 135.89350158 159.12640281\n",
      " 125.73210053 125.65820027 130.58900136 114.92400089 119.76619978\n",
      "  92.02559991 110.19059898 169.0482996  157.04779968 114.18529946\n",
      " 106.65610141  79.65500008 113.37640029 125.72710046 107.10219918\n",
      " 119.63660127 155.34440393 159.68839903 120.39380007 135.16670361\n",
      " 101.64999993 117.68599793 119.28750024 112.94250079 102.82639877\n",
      " 160.2263979   98.64470034 148.03689883 125.69080144 169.66719916\n",
      " 125.45549863 127.45769695 127.45620177 113.76569915 113.20870093\n",
      " 123.58229923 102.24419904  89.36399963 124.22609981 101.47119948\n",
      " 107.07059945 113.46700091 117.34310029  99.04239926 121.64180058\n",
      " 162.72899888  87.33969852 106.85199983 117.11230115 127.78230092\n",
      " 123.96390048  80.6832994  120.33260069 156.52889879  87.84949997\n",
      " 110.32279942 118.79889914 171.55699911 103.01189918 105.60030051\n",
      " 122.49480028 157.12379835  87.81299874  93.37660057 112.5531003\n",
      " 177.61409837 114.71449969 119.22440028  94.70450115 125.78010037\n",
      " 166.215401   114.81430038 116.65230152  88.35259914 148.58980036\n",
      " 120.42989933  89.37780021 111.88219984 117.19650011 118.77120127\n",
      "  88.02649935  94.02640001 117.11590011 118.65840159 120.16770058\n",
      " 126.70959782 121.95619934 150.30010009 165.24700012 118.62479961\n",
      " 120.47880139 150.6543004  118.62459928 172.33069949 105.51579931\n",
      " 104.92290145 148.63220028 113.70740069 124.76820089 147.49669968\n",
      " 119.63600103 115.40290024 112.61899988 113.53410211 141.10920102\n",
      " 117.91009767 102.83400023 115.93780125 103.60940175  98.61500006\n",
      " 117.6556006   90.58510038  91.7785005  153.36089912 102.83089999\n",
      " 154.86430066 114.38170156 138.79440109  90.09339874 115.49199916\n",
      " 114.5263997  123.04600031 121.77470011 165.35820085  92.89309957\n",
      " 135.59010114 121.42259901 120.77130091 104.83140035 143.75680324\n",
      " 121.53989914 116.61990026 113.62180069 126.88479789 122.61319966\n",
      " 125.80639961 121.29320035  86.74629901 132.80900153 145.6826016\n",
      "  92.77679966 157.9680999  159.1984023  126.25869909 164.4735994\n",
      " 109.00689937 110.33500044 103.6307983   94.2399006  127.63350274\n",
      " 107.12370039 162.62780006 121.63720053 132.09969932 130.69500172\n",
      " 160.74879986  90.06479903 175.11930182 127.79400024 126.63069795\n",
      "  86.35329923 124.60739968 150.36129722  89.50090051 106.89659961\n",
      " 108.99699979  83.80159931 136.40610009 154.9800023  139.34640386\n",
      "  74.57250026 152.09260096 126.19239984 126.77859999 127.50439888\n",
      " 108.55269948 156.19870066 114.58880094 116.90810114 125.47329967\n",
      " 154.26850109 121.26389974 156.37859896  92.97730048 125.5126013\n",
      " 125.71520045  87.96930055  92.16019891 126.12579951 128.4724039\n",
      " 113.23840041 117.73779732 120.93060034 126.82669843 119.60010124\n",
      " 136.30360081  93.90359947 119.91010029 113.22630116  94.34019952\n",
      " 108.85749984  87.49919932 108.90699965  89.65629956  92.4496001\n",
      " 131.58090348 162.40580011  89.26560016 119.60190103 133.21580158\n",
      " 123.79270013 128.24190168 102.15999872  88.80699885 132.0414011\n",
      " 119.52860045 108.69289992 167.21180071 115.21160032  86.57379908\n",
      " 118.86060098  91.12009952 162.08030066 116.71590048 121.38849973\n",
      " 160.28769771 120.20939919 113.00599913 108.40619853 126.60829977\n",
      "  75.95610075 103.01189978 127.30550241 121.87319915  92.61629978\n",
      " 131.99800046 118.16710117 116.30889957 154.32270302 159.24850114\n",
      " 110.19849956 155.65929849 119.28740103 160.5867006  118.51060078\n",
      " 158.03349967 115.14139908 116.72950031 149.0982994  114.82400033\n",
      " 125.85709901 164.80469912 117.61620022 124.95419933 153.38320408\n",
      " 153.49020244 132.22670013 114.84690024 121.2090022  124.82170043\n",
      "  89.63070048 122.8604998  154.8198024  111.64840027 106.8117999\n",
      " 161.83560095 118.47049989 165.63030012 134.07440143 115.12869977\n",
      " 153.06009926 168.73980042 115.35400002 114.03650116 157.30709993\n",
      "  85.38849877 127.02160072 128.01830074 128.779899   124.27060054\n",
      " 123.95050063  90.45630096 153.27450088  97.05309987 137.74889973\n",
      "  89.08839943 107.1091998  114.99700047 112.947701   124.38459919\n",
      "  91.44869885 125.39300163 162.37449812 120.18489882 164.93880105\n",
      " 126.66319773 112.2856003  127.41789916  94.7779987   90.91619982\n",
      " 102.85339912 120.75210015  83.20009932 126.51880025 160.28980506\n",
      " 117.20430081 118.26729987 119.88729969 122.67579969 120.20250133\n",
      " 121.6263998  118.12490056 107.24350003 148.23459952 126.07719838\n",
      " 115.63650052  73.7388001  127.90560132 153.66690089 122.32950001\n",
      " 125.65830093  88.85360034 103.10669864 124.74500052 120.31470019\n",
      "  73.20650107 151.46270034 121.37790024 104.53009985  86.36969758\n",
      " 115.36549885 172.16029801 120.02820011 159.55689808 113.23679896\n",
      " 121.17480048 118.70460095  95.89819981 118.95119978 125.8217005\n",
      " 118.59039966  96.03690085 153.73160178 122.07140015 147.72419918\n",
      " 159.34590237 113.6300001  122.49519939 148.70129786 127.10310036\n",
      " 166.06309972 135.98720097 119.83169939 166.953498   108.28599952\n",
      " 121.76689856 138.84450199 106.03519913]\n"
     ]
    }
   ],
   "source": [
    "print(test_data_prediction)\n",
    "     "
   ]
  },
  {
   "cell_type": "code",
   "execution_count": 21,
   "id": "dfa8d5f7",
   "metadata": {},
   "outputs": [
    {
     "name": "stdout",
     "output_type": "stream",
     "text": [
      "R squared error :  0.9889778014650128\n"
     ]
    }
   ],
   "source": [
    "# R squared error\n",
    "error_score = metrics.r2_score(Y_test, test_data_prediction)\n",
    "print(\"R squared error : \", error_score)\n",
    "     "
   ]
  },
  {
   "cell_type": "code",
   "execution_count": 22,
   "id": "60eeb6f9",
   "metadata": {},
   "outputs": [],
   "source": [
    "Y_test = list(Y_test)"
   ]
  },
  {
   "cell_type": "code",
   "execution_count": 23,
   "id": "4e3bede3",
   "metadata": {},
   "outputs": [
    {
     "data": {
      "image/png": "[encoded data removed]",
      "text/plain": [
       "<Figure size 640x480 with 1 Axes>"
      ]
     },
     "metadata": {},
     "output_type": "display_data"
    }
   ],
   "source": [
    "plt.plot(Y_test, color='blue', label = 'Actual Value')\n",
    "plt.plot(test_data_prediction, color='green', label='Predicted Value')\n",
    "plt.title('Actual Price vs Predicted Price')\n",
    "plt.xlabel('Number of values')\n",
    "plt.ylabel('GLD Price')\n",
    "plt.legend()\n",
    "plt.show()"
   ]
  },
  {
   "cell_type": "code",
   "execution_count": 24,
   "id": "fe03b8fc",
   "metadata": {},
   "outputs": [
    {
     "data": {
      "text/plain": [
       "DecisionTreeRegressor(random_state=0)"
      ]
     },
     "execution_count": 24,
     "metadata": {},
     "output_type": "execute_result"
    }
   ],
   "source": [
    "# Decision Tree\n",
    "\n",
    "# import the regressor\n",
    "from sklearn.tree import DecisionTreeRegressor \n",
    "  \n",
    "# create a regressor object\n",
    "regressor = DecisionTreeRegressor(random_state = 0) \n",
    "  \n",
    "# fit the regressor with X and Y data\n",
    "regressor.fit(X_train,Y_train)"
   ]
  },
  {
   "cell_type": "code",
   "execution_count": 25,
   "id": "2e711092",
   "metadata": {},
   "outputs": [
    {
     "data": {
      "text/plain": [
       "array([168.970001,  86.089996, 114.769997, 127.550003, 121.730003,\n",
       "       155.669998, 149.149994, 126.809998, 117.389999, 125.620003,\n",
       "       117.959999, 174.580002, 141.919998, 167.179993, 115.839996,\n",
       "       116.730003, 134.100006, 168.5     , 159.570007, 138.220001,\n",
       "       155.360001, 126.610001, 177.210007, 157.339996, 125.459999,\n",
       "        93.720001,  73.080002, 122.290001, 119.220001, 167.990005,\n",
       "        87.370003, 124.769997,  91.730003, 117.919998, 121.300003,\n",
       "       135.410004, 114.57    , 115.800003, 134.119995, 105.720001,\n",
       "       104.370003,  87.239998, 127.489998, 118.360001, 157.779999,\n",
       "       119.959999, 108.419998, 107.839996,  93.459999, 128.539993,\n",
       "        72.510002, 113.260002, 120.110001, 109.860001, 118.919998,\n",
       "       120.730003, 161.320007, 161.520004, 146.869995,  85.199997,\n",
       "        93.040001,  86.879997,  90.949997, 119.800003, 126.139999,\n",
       "       127.400002, 173.490005, 122.970001, 116.209999,  97.550003,\n",
       "       170.130005, 142.050003, 132.490005, 120.910004, 122.879997,\n",
       "       119.190002, 113.910004, 118.82    , 106.260002, 127.660004,\n",
       "       114.769997, 108.470001, 115.57    , 119.699997,  89.910004,\n",
       "        87.989998, 142.380005, 127.150002, 114.209999, 110.239998,\n",
       "       108.279999,  73.080002, 173.020004, 113.639999, 121.209999,\n",
       "       128.5     , 155.139999,  91.769997, 134.410004, 161.320007,\n",
       "       124.43    , 126.18    , 130.369995, 113.910004, 121.160004,\n",
       "        92.059998, 111.459999, 173.490005, 160.289993, 113.639999,\n",
       "       107.040001,  81.989998, 113.669998, 125.540001, 108.089996,\n",
       "       118.82    , 157.320007, 160.559998, 120.139999, 132.850006,\n",
       "       101.849998, 116.029999, 118.959999, 112.440002, 102.309998,\n",
       "       160.559998,  97.43    , 139.350006, 125.290001, 171.509995,\n",
       "       123.730003, 128.539993, 128.380005, 115.199997, 112.139999,\n",
       "       124.269997, 101.790001,  89.5     , 125.959999,  99.669998,\n",
       "       107.040001, 115.849998, 116.730003,  97.699997, 121.650002,\n",
       "       165.279999,  87.089996, 107.669998, 118.559998, 127.660004,\n",
       "       125.18    ,  79.790001, 121.470001, 160.619995,  89.5     ,\n",
       "       109.760002, 118.279999, 174.399994, 102.459999, 104.860001,\n",
       "       122.599998, 160.619995,  86.610001,  92.760002, 111.57    ,\n",
       "       177.210007, 114.720001, 118.959999,  93.860001, 124.910004,\n",
       "       166.630005, 113.910004, 117.260002,  88.419998, 150.410004,\n",
       "       119.75    ,  89.440002, 112.650002, 118.360001, 118.860001,\n",
       "        87.690002,  94.599998, 114.459999, 118.230003, 120.839996,\n",
       "       126.160004, 122.080002, 138.      , 165.649994, 119.32    ,\n",
       "       120.730003, 151.440002, 120.559998, 174.399994, 107.43    ,\n",
       "       105.169998, 150.410004, 114.769997, 124.360001, 146.589996,\n",
       "       119.730003, 113.639999, 112.650002, 112.220001, 132.690002,\n",
       "       118.099998, 103.150002, 115.940002, 104.370003,  98.360001,\n",
       "       118.360001,  89.440002,  91.980003, 154.449997, 102.459999,\n",
       "       154.470001, 115.050003, 137.660004,  90.589996, 115.139999,\n",
       "       108.860001, 119.510002, 122.709999, 166.490005,  93.389999,\n",
       "       137.660004, 121.110001, 120.160004, 105.68    , 135.020004,\n",
       "       122.169998, 116.470001, 113.5     , 128.789993, 123.32    ,\n",
       "       125.699997, 121.110001,  87.239998, 132.070007, 135.380005,\n",
       "        91.5     , 161.520004, 161.320007, 126.949997, 168.110001,\n",
       "       110.290001, 108.550003, 103.019997,  94.730003, 129.740005,\n",
       "       107.040001, 161.520004, 121.650002, 131.740005, 130.369995,\n",
       "       157.210007,  90.610001, 177.210007, 129.860001, 126.160004,\n",
       "        84.769997, 124.019997, 150.479996,  89.440002, 107.669998,\n",
       "       108.470001,  88.32    , 134.300003, 156.710007, 135.020004,\n",
       "        72.5     , 151.440002, 126.809998, 127.169998, 127.970001,\n",
       "       108.470001, 157.160004, 113.910004, 116.730003, 123.389999,\n",
       "       154.      , 122.760002, 156.479996,  92.93    , 125.379997,\n",
       "       124.239998,  88.580002,  91.610001, 125.620003, 129.710007,\n",
       "       112.589996, 116.839996, 120.779999, 128.789993, 120.730003,\n",
       "       136.050003,  92.949997, 118.809998, 112.940002,  94.599998,\n",
       "       109.129997,  88.32    , 108.949997,  90.809998,  93.389999,\n",
       "       130.369995, 161.419998,  88.32    , 120.139999, 134.25    ,\n",
       "       124.389999, 129.710007, 101.419998,  91.309998, 130.800003,\n",
       "       123.32    , 108.220001, 173.199997, 113.290001,  86.510002,\n",
       "       118.540001,  91.25    , 161.589996, 118.360001, 123.620003,\n",
       "       159.429993, 120.559998, 114.269997, 108.309998, 126.800003,\n",
       "        75.650002, 103.18    , 129.740005, 121.589996,  92.730003,\n",
       "       132.199997, 118.559998, 117.099998, 154.470001, 161.220001,\n",
       "       110.809998, 137.380005, 119.330002, 160.559998, 117.449997,\n",
       "       159.050003, 114.860001, 116.5     , 147.179993, 115.43    ,\n",
       "       127.779999, 167.339996, 117.139999, 124.779999, 152.300003,\n",
       "       153.050003, 132.009995, 115.43    , 121.559998, 129.740005,\n",
       "        90.279999, 125.32    , 157.320007, 110.459999, 107.669998,\n",
       "       162.300003, 118.769997, 165.800003, 134.75    , 113.269997,\n",
       "       152.589996, 169.610001, 117.769997, 114.720001, 161.449997,\n",
       "        84.459999, 127.120003, 128.270004, 128.110001, 124.529999,\n",
       "       124.400002,  90.800003, 151.910004,  96.5     , 136.050003,\n",
       "        86.449997, 108.470001, 115.      , 111.75    , 124.959999,\n",
       "        91.610001, 124.589996, 161.419998, 121.239998, 167.580002,\n",
       "       126.160004, 112.970001, 127.599998,  95.449997,  94.349998,\n",
       "       102.279999, 120.739998,  84.279999, 126.589996, 160.460007,\n",
       "       116.610001, 118.68    , 117.610001, 124.389999, 120.720001,\n",
       "       120.940002, 117.650002, 107.040001, 146.869995, 123.730003,\n",
       "       115.32    ,  74.      , 127.349998, 157.779999, 118.      ,\n",
       "       125.540001,  89.269997, 102.199997, 123.389999, 121.      ,\n",
       "        73.790001, 151.050003, 120.110001, 103.93    ,  88.949997,\n",
       "       114.769997, 172.289993, 121.470001, 160.649994, 113.669998,\n",
       "       121.790001, 118.559998,  96.5     , 119.169998, 126.07    ,\n",
       "       118.239998,  97.800003, 157.779999, 123.620003, 146.      ,\n",
       "       159.300003, 114.730003, 123.239998, 145.729996, 128.669998,\n",
       "       166.130005, 132.690002, 120.980003, 173.020004, 109.199997,\n",
       "       122.019997, 135.410004, 103.419998])"
      ]
     },
     "execution_count": 25,
     "metadata": {},
     "output_type": "execute_result"
    }
   ],
   "source": [
    "# predicting a new value\n",
    "  \n",
    "# test the output \n",
    "y_pred = regressor.predict(X_test)\n",
    "y_pred"
   ]
  },
  {
   "cell_type": "code",
   "execution_count": 26,
   "id": "6615f69d",
   "metadata": {},
   "outputs": [
    {
     "name": "stdout",
     "output_type": "stream",
     "text": [
      "R squared error :  0.9889778014650128\n"
     ]
    }
   ],
   "source": [
    "# R squared error\n",
    "error_score = metrics.r2_score(Y_test, test_data_prediction)\n",
    "\n",
    "print(\"R squared error : \", error_score)\n",
    "     "
   ]
  },
  {
   "cell_type": "code",
   "execution_count": 27,
   "id": "b121d868",
   "metadata": {},
   "outputs": [
    {
     "data": {
      "text/plain": [
       "0.9854190298916252"
      ]
     },
     "execution_count": 27,
     "metadata": {},
     "output_type": "execute_result"
    }
   ],
   "source": [
    "regressor.score(X_test, Y_test)"
   ]
  },
  {
   "cell_type": "code",
   "execution_count": null,
   "id": "acfe878c",
   "metadata": {},
   "outputs": [],
   "source": []
  }
 ],
 "metadata": {
  "kernelspec": {
   "display_name": "Python 3 (ipykernel)",
   "language": "python",
   "name": "python3"
  },
  "language_info": {
   "codemirror_mode": {
    "name": "ipython",
    "version": 3
   },
   "file_extension": ".py",
   "mimetype": "text/x-python",
   "name": "python",
   "nbconvert_exporter": "python",
   "pygments_lexer": "ipython3",
   "version": "3.9.13"
  }
 },
 "nbformat": 4,
 "nbformat_minor": 5
}
