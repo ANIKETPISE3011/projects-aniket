{
 "cells": [
  {
   "cell_type": "code",
   "execution_count": 1,
   "metadata": {
    "id": "FnQbLr3SE8lO"
   },
   "outputs": [],
   "source": [
    "import numpy as np\n",
    "import matplotlib.pyplot as plt\n",
    "import pandas as pd"
   ]
  },
  {
   "cell_type": "code",
   "execution_count": 2,
   "metadata": {
    "id": "eQa1hR_DFBrt"
   },
   "outputs": [],
   "source": [
    "url = \"https://archive.ics.uci.edu/ml/machine-learning-databases/iris/iris.data\"\n",
    "# Assign colum names to the dataset\n",
    "names = ['sepal-length', 'sepal-width', 'petal-length', 'petal-width', 'Class']\n",
    "# Read dataset to pandas dataframe\n",
    "dataset = pd.read_csv(url, names=names)"
   ]
  },
  {
   "cell_type": "code",
   "execution_count": 3,
   "metadata": {
    "colab": {
     "base_uri": "https://localhost:8080/",
     "height": 206
    },
    "id": "HxVwnh_VFEuV",
    "outputId": "9f362192-259e-4b90-9f74-f7f68cfc419d"
   },
   "outputs": [
    {
     "data": {
      "text/html": [
       "<div>\n",
       "<style scoped>\n",
       "    .dataframe tbody tr th:only-of-type {\n",
       "        vertical-align: middle;\n",
       "    }\n",
       "\n",
       "    .dataframe tbody tr th {\n",
       "        vertical-align: top;\n",
       "    }\n",
       "\n",
       "    .dataframe thead th {\n",
       "        text-align: right;\n",
       "    }\n",
       "</style>\n",
       "<table border=\"1\" class=\"dataframe\">\n",
       "  <thead>\n",
       "    <tr style=\"text-align: right;\">\n",
       "      <th></th>\n",
       "      <th>sepal-length</th>\n",
       "      <th>sepal-width</th>\n",
       "      <th>petal-length</th>\n",
       "      <th>petal-width</th>\n",
       "      <th>Class</th>\n",
       "    </tr>\n",
       "  </thead>\n",
       "  <tbody>\n",
       "    <tr>\n",
       "      <th>0</th>\n",
       "      <td>5.1</td>\n",
       "      <td>3.5</td>\n",
       "      <td>1.4</td>\n",
       "      <td>0.2</td>\n",
       "      <td>Iris-setosa</td>\n",
       "    </tr>\n",
       "    <tr>\n",
       "      <th>1</th>\n",
       "      <td>4.9</td>\n",
       "      <td>3.0</td>\n",
       "      <td>1.4</td>\n",
       "      <td>0.2</td>\n",
       "      <td>Iris-setosa</td>\n",
       "    </tr>\n",
       "    <tr>\n",
       "      <th>2</th>\n",
       "      <td>4.7</td>\n",
       "      <td>3.2</td>\n",
       "      <td>1.3</td>\n",
       "      <td>0.2</td>\n",
       "      <td>Iris-setosa</td>\n",
       "    </tr>\n",
       "    <tr>\n",
       "      <th>3</th>\n",
       "      <td>4.6</td>\n",
       "      <td>3.1</td>\n",
       "      <td>1.5</td>\n",
       "      <td>0.2</td>\n",
       "      <td>Iris-setosa</td>\n",
       "    </tr>\n",
       "    <tr>\n",
       "      <th>4</th>\n",
       "      <td>5.0</td>\n",
       "      <td>3.6</td>\n",
       "      <td>1.4</td>\n",
       "      <td>0.2</td>\n",
       "      <td>Iris-setosa</td>\n",
       "    </tr>\n",
       "  </tbody>\n",
       "</table>\n",
       "</div>"
      ],
      "text/plain": [
       "   sepal-length  sepal-width  petal-length  petal-width        Class\n",
       "0           5.1          3.5           1.4          0.2  Iris-setosa\n",
       "1           4.9          3.0           1.4          0.2  Iris-setosa\n",
       "2           4.7          3.2           1.3          0.2  Iris-setosa\n",
       "3           4.6          3.1           1.5          0.2  Iris-setosa\n",
       "4           5.0          3.6           1.4          0.2  Iris-setosa"
      ]
     },
     "execution_count": 3,
     "metadata": {},
     "output_type": "execute_result"
    }
   ],
   "source": [
    "dataset.head()"
   ]
  },
  {
   "cell_type": "code",
   "execution_count": 4,
   "metadata": {
    "colab": {
     "base_uri": "https://localhost:8080/"
    },
    "id": "IKY66wGMFNnX",
    "outputId": "92226c85-7ae5-4f22-b190-c294e3d854ab"
   },
   "outputs": [
    {
     "name": "stdout",
     "output_type": "stream",
     "text": [
      "<class 'pandas.core.frame.DataFrame'>\n",
      "RangeIndex: 150 entries, 0 to 149\n",
      "Data columns (total 5 columns):\n",
      " #   Column        Non-Null Count  Dtype  \n",
      "---  ------        --------------  -----  \n",
      " 0   sepal-length  150 non-null    float64\n",
      " 1   sepal-width   150 non-null    float64\n",
      " 2   petal-length  150 non-null    float64\n",
      " 3   petal-width   150 non-null    float64\n",
      " 4   Class         150 non-null    object \n",
      "dtypes: float64(4), object(1)\n",
      "memory usage: 6.0+ KB\n"
     ]
    }
   ],
   "source": [
    "dataset.info()"
   ]
  },
  {
   "cell_type": "code",
   "execution_count": 5,
   "metadata": {
    "colab": {
     "base_uri": "https://localhost:8080/",
     "height": 300
    },
    "id": "lsQC09MJFQid",
    "outputId": "5d9b50b7-e345-4ae0-a55f-fe4891b7e764"
   },
   "outputs": [
    {
     "data": {
      "text/html": [
       "<div>\n",
       "<style scoped>\n",
       "    .dataframe tbody tr th:only-of-type {\n",
       "        vertical-align: middle;\n",
       "    }\n",
       "\n",
       "    .dataframe tbody tr th {\n",
       "        vertical-align: top;\n",
       "    }\n",
       "\n",
       "    .dataframe thead th {\n",
       "        text-align: right;\n",
       "    }\n",
       "</style>\n",
       "<table border=\"1\" class=\"dataframe\">\n",
       "  <thead>\n",
       "    <tr style=\"text-align: right;\">\n",
       "      <th></th>\n",
       "      <th>sepal-length</th>\n",
       "      <th>sepal-width</th>\n",
       "      <th>petal-length</th>\n",
       "      <th>petal-width</th>\n",
       "    </tr>\n",
       "  </thead>\n",
       "  <tbody>\n",
       "    <tr>\n",
       "      <th>count</th>\n",
       "      <td>150.000000</td>\n",
       "      <td>150.000000</td>\n",
       "      <td>150.000000</td>\n",
       "      <td>150.000000</td>\n",
       "    </tr>\n",
       "    <tr>\n",
       "      <th>mean</th>\n",
       "      <td>5.843333</td>\n",
       "      <td>3.054000</td>\n",
       "      <td>3.758667</td>\n",
       "      <td>1.198667</td>\n",
       "    </tr>\n",
       "    <tr>\n",
       "      <th>std</th>\n",
       "      <td>0.828066</td>\n",
       "      <td>0.433594</td>\n",
       "      <td>1.764420</td>\n",
       "      <td>0.763161</td>\n",
       "    </tr>\n",
       "    <tr>\n",
       "      <th>min</th>\n",
       "      <td>4.300000</td>\n",
       "      <td>2.000000</td>\n",
       "      <td>1.000000</td>\n",
       "      <td>0.100000</td>\n",
       "    </tr>\n",
       "    <tr>\n",
       "      <th>25%</th>\n",
       "      <td>5.100000</td>\n",
       "      <td>2.800000</td>\n",
       "      <td>1.600000</td>\n",
       "      <td>0.300000</td>\n",
       "    </tr>\n",
       "    <tr>\n",
       "      <th>50%</th>\n",
       "      <td>5.800000</td>\n",
       "      <td>3.000000</td>\n",
       "      <td>4.350000</td>\n",
       "      <td>1.300000</td>\n",
       "    </tr>\n",
       "    <tr>\n",
       "      <th>75%</th>\n",
       "      <td>6.400000</td>\n",
       "      <td>3.300000</td>\n",
       "      <td>5.100000</td>\n",
       "      <td>1.800000</td>\n",
       "    </tr>\n",
       "    <tr>\n",
       "      <th>max</th>\n",
       "      <td>7.900000</td>\n",
       "      <td>4.400000</td>\n",
       "      <td>6.900000</td>\n",
       "      <td>2.500000</td>\n",
       "    </tr>\n",
       "  </tbody>\n",
       "</table>\n",
       "</div>"
      ],
      "text/plain": [
       "       sepal-length  sepal-width  petal-length  petal-width\n",
       "count    150.000000   150.000000    150.000000   150.000000\n",
       "mean       5.843333     3.054000      3.758667     1.198667\n",
       "std        0.828066     0.433594      1.764420     0.763161\n",
       "min        4.300000     2.000000      1.000000     0.100000\n",
       "25%        5.100000     2.800000      1.600000     0.300000\n",
       "50%        5.800000     3.000000      4.350000     1.300000\n",
       "75%        6.400000     3.300000      5.100000     1.800000\n",
       "max        7.900000     4.400000      6.900000     2.500000"
      ]
     },
     "execution_count": 5,
     "metadata": {},
     "output_type": "execute_result"
    }
   ],
   "source": [
    "dataset.describe()"
   ]
  },
  {
   "cell_type": "code",
   "execution_count": 6,
   "metadata": {
    "colab": {
     "base_uri": "https://localhost:8080/"
    },
    "id": "Qw5yFrwsFUhS",
    "outputId": "2abbaa60-be18-4f58-f70a-eb44e40391ce"
   },
   "outputs": [
    {
     "data": {
      "text/plain": [
       "sepal-length    0\n",
       "sepal-width     0\n",
       "petal-length    0\n",
       "petal-width     0\n",
       "Class           0\n",
       "dtype: int64"
      ]
     },
     "execution_count": 6,
     "metadata": {},
     "output_type": "execute_result"
    }
   ],
   "source": [
    "dataset.isnull().sum()"
   ]
  },
  {
   "cell_type": "code",
   "execution_count": 7,
   "metadata": {
    "id": "gVCffhL2FH5M"
   },
   "outputs": [],
   "source": [
    "X = dataset.iloc[:, :-1].values\n",
    "y = dataset.iloc[:, 4].values"
   ]
  },
  {
   "cell_type": "markdown",
   "metadata": {
    "id": "Kh0BkFsjFdby"
   },
   "source": [
    "The X variable contains the first four columns of the dataset (i.e. attributes) while y contains the labels."
   ]
  },
  {
   "cell_type": "markdown",
   "metadata": {
    "id": "Wi2KIwfHFgSq"
   },
   "source": [
    "Train Test Split"
   ]
  },
  {
   "cell_type": "code",
   "execution_count": 8,
   "metadata": {
    "id": "V4vbP9_yFMmW"
   },
   "outputs": [
    {
     "name": "stderr",
     "output_type": "stream",
     "text": [
      "C:\\Users\\Siddhi\\AppData\\Roaming\\Python\\Python311\\site-packages\\scipy\\__init__.py:169: UserWarning: A NumPy version >=1.18.5 and <1.26.0 is required for this version of SciPy (detected version 1.26.2\n",
      "  warnings.warn(f\"A NumPy version >={np_minversion} and <{np_maxversion}\"\n"
     ]
    }
   ],
   "source": [
    "from sklearn.model_selection import train_test_split\n",
    "\n",
    "X_train, X_test, y_train, y_test = train_test_split(X, y, test_size=0.20)"
   ]
  },
  {
   "cell_type": "markdown",
   "metadata": {
    "id": "8I0CP2pYFpWy"
   },
   "source": [
    "Feature Scaling"
   ]
  },
  {
   "cell_type": "code",
   "execution_count": 9,
   "metadata": {
    "id": "8Jf80qc5FlAM"
   },
   "outputs": [],
   "source": [
    "from sklearn.preprocessing import StandardScaler\n",
    "\n",
    "scaler = StandardScaler()\n",
    "scaler.fit(X_train)\n",
    "\n",
    "X_train = scaler.transform(X_train)\n",
    "X_test = scaler.transform(X_test)"
   ]
  },
  {
   "cell_type": "code",
   "execution_count": 10,
   "metadata": {
    "colab": {
     "base_uri": "https://localhost:8080/"
    },
    "id": "C7t37hggF1Gi",
    "outputId": "7adbef75-e204-494a-e293-e2f2ae4e04cf"
   },
   "outputs": [
    {
     "data": {
      "text/plain": [
       "array([[-0.76880701,  2.35327875, -1.28206764, -1.43519498],\n",
       "       [ 1.93705006, -0.30662816,  1.50461523,  0.83441569],\n",
       "       [ 0.26199568, -0.08496925,  0.63377683,  0.83441569],\n",
       "       [ 0.90624737, -0.08496925,  1.21433576,  1.36844172],\n",
       "       [-1.02650768,  0.80166639, -1.28206764, -1.30168847],\n",
       "       [ 0.00429501, -0.52828707,  0.80794451,  1.63545474],\n",
       "       [ 1.16394804, -0.08496925,  0.74988862,  0.70090918],\n",
       "       [ 1.29279838, -0.08496925,  1.04016808,  1.23493521],\n",
       "       [-0.89765734,  0.58000748, -1.16595585, -0.90116894],\n",
       "       [ 0.64854669, -1.19326379,  0.69183272,  0.43389616],\n",
       "       [ 1.0350977 , -0.30662816,  0.51766505,  0.16688314],\n",
       "       [-1.15535802,  0.13668966, -1.28206764, -1.43519498],\n",
       "       [-1.15535802, -0.08496925, -1.34012353, -1.30168847],\n",
       "       [ 0.51969636, -1.85824052,  0.45960915,  0.43389616],\n",
       "       [ 1.80819972,  1.2449842 ,  1.38850344,  1.76896125],\n",
       "       [-1.41305869,  0.35834857, -1.22401174, -1.30168847],\n",
       "       [-1.02650768,  0.80166639, -1.22401174, -1.03467545],\n",
       "       [ 0.77739703, -0.30662816,  0.34349737,  0.16688314],\n",
       "       [-0.89765734, -1.19326379, -0.41122924, -0.10012988],\n",
       "       [ 0.64854669, -0.52828707,  0.80794451,  0.43389616],\n",
       "       [-0.12455533,  1.68830202, -1.16595585, -1.16818196],\n",
       "       [ 0.77739703, -0.74994597,  0.9240563 ,  0.96792219],\n",
       "       [ 1.80819972,  0.35834857,  1.33044755,  0.83441569],\n",
       "       [ 0.26199568, -1.85824052,  0.16932969, -0.23363639],\n",
       "       [ 1.16394804,  0.13668966,  0.57572094,  0.43389616],\n",
       "       [-0.382256  , -1.4149227 ,  0.0532179 , -0.10012988],\n",
       "       [ 0.00429501, -0.74994597,  0.22738558, -0.23363639],\n",
       "       [ 0.77739703, -0.52828707,  1.09822398,  1.36844172],\n",
       "       [ 0.90624737, -0.52828707,  0.51766505,  0.43389616],\n",
       "       [-1.02650768,  1.0233253 , -1.39817942, -1.16818196],\n",
       "       [-1.67075936, -1.63658161, -1.39817942, -1.16818196],\n",
       "       [-1.92846003, -0.08496925, -1.51429121, -1.43519498],\n",
       "       [-0.25340566, -0.08496925,  0.45960915,  0.43389616],\n",
       "       [ 0.51969636,  0.80166639,  0.98211219,  1.50194823],\n",
       "       [ 0.64854669, -0.74994597,  0.69183272,  0.83441569],\n",
       "       [-1.54190903,  0.13668966, -1.28206764, -1.30168847],\n",
       "       [ 0.26199568, -0.74994597,  0.80794451,  0.56740267],\n",
       "       [-0.382256  , -1.4149227 , -0.00483799, -0.23363639],\n",
       "       [-0.51110633, -0.08496925,  0.45960915,  0.43389616],\n",
       "       [ 0.39084602, -0.08496925,  0.69183272,  0.83441569],\n",
       "       [ 1.42164871,  0.13668966,  0.80794451,  1.50194823],\n",
       "       [ 2.4524514 ,  1.68830202,  1.7368388 ,  1.36844172],\n",
       "       [ 0.64854669, -1.19326379,  0.74988862,  0.96792219],\n",
       "       [-0.76880701, -0.74994597,  0.11127379,  0.30038965],\n",
       "       [ 0.00429501, -0.74994597,  0.11127379,  0.03337663],\n",
       "       [-1.28420835,  0.80166639, -1.22401174, -1.30168847],\n",
       "       [-0.51110633,  0.80166639, -1.28206764, -1.03467545],\n",
       "       [ 0.13314535, -0.08496925,  0.80794451,  0.83441569],\n",
       "       [-0.51110633,  0.80166639, -1.16595585, -1.30168847],\n",
       "       [-0.12455533, -0.52828707,  0.45960915,  0.16688314],\n",
       "       [-0.89765734,  0.80166639, -1.28206764, -1.30168847],\n",
       "       [ 0.90624737, -0.08496925,  1.04016808,  0.83441569],\n",
       "       [-1.02650768,  0.35834857, -1.45623532, -1.30168847],\n",
       "       [-0.12455533, -1.19326379,  0.74988862,  1.1014287 ],\n",
       "       [ 2.32360107, -0.08496925,  1.6787829 ,  1.23493521],\n",
       "       [-0.12455533,  3.01825548, -1.28206764, -1.03467545],\n",
       "       [-0.25340566, -0.30662816, -0.06289388,  0.16688314],\n",
       "       [ 0.39084602, -0.97160488,  1.09822398,  0.30038965],\n",
       "       [ 0.64854669, -1.63658161,  0.40155326,  0.16688314],\n",
       "       [ 1.29279838,  0.35834857,  1.27239165,  1.50194823],\n",
       "       [-0.89765734,  1.46664311, -1.28206764, -1.03467545],\n",
       "       [-0.12455533, -0.30662816,  0.28544147,  0.16688314],\n",
       "       [-1.28420835,  0.80166639, -1.04984406, -1.30168847],\n",
       "       [ 1.80819972, -0.08496925,  1.21433576,  0.56740267],\n",
       "       [ 0.26199568, -0.30662816,  0.45960915,  0.43389616],\n",
       "       [ 1.16394804,  0.58000748,  1.15627987,  1.23493521],\n",
       "       [ 0.77739703,  0.35834857,  0.9240563 ,  1.50194823],\n",
       "       [ 0.00429501, -0.97160488,  0.16932969,  0.03337663],\n",
       "       [ 1.42164871,  0.35834857,  1.15627987,  1.50194823],\n",
       "       [-0.89765734,  1.68830202, -1.28206764, -1.16818196],\n",
       "       [ 2.06590039, -0.52828707,  1.38850344,  0.96792219],\n",
       "       [-1.02650768, -0.08496925, -1.22401174, -1.30168847],\n",
       "       [-0.12455533, -0.08496925,  0.28544147,  0.03337663],\n",
       "       [ 0.39084602, -0.52828707,  0.16932969,  0.16688314],\n",
       "       [-1.28420835, -0.08496925, -1.34012353, -1.43519498],\n",
       "       [-1.02650768, -1.63658161, -0.23706156, -0.23363639],\n",
       "       [-1.54190903,  1.2449842 , -1.5723471 , -1.30168847],\n",
       "       [-0.51110633,  1.46664311, -1.28206764, -1.30168847],\n",
       "       [ 0.39084602, -0.52828707,  0.57572094,  0.03337663],\n",
       "       [ 0.39084602, -0.08496925,  0.51766505,  0.30038965],\n",
       "       [-0.25340566, -1.19326379,  0.11127379, -0.10012988],\n",
       "       [-0.382256  , -1.63658161,  0.16932969,  0.16688314],\n",
       "       [-0.89765734,  1.0233253 , -1.34012353, -1.30168847],\n",
       "       [-0.51110633,  1.90996093, -1.39817942, -1.03467545],\n",
       "       [ 1.29279838, -0.52828707,  0.63377683,  0.30038965],\n",
       "       [-1.15535802, -1.4149227 , -0.23706156, -0.23363639],\n",
       "       [ 0.00429501, -0.74994597,  0.80794451,  0.96792219],\n",
       "       [-0.89765734,  1.68830202, -1.04984406, -1.03467545],\n",
       "       [-1.7996097 ,  0.35834857, -1.39817942, -1.30168847],\n",
       "       [ 1.16394804,  0.58000748,  1.15627987,  1.76896125],\n",
       "       [-1.7996097 , -0.30662816, -1.34012353, -1.30168847],\n",
       "       [-0.382256  , -1.19326379,  0.16932969,  0.16688314],\n",
       "       [-1.02650768,  0.58000748, -1.34012353, -1.30168847],\n",
       "       [ 0.00429501,  2.13161984, -1.45623532, -1.30168847],\n",
       "       [-0.89765734,  1.0233253 , -1.34012353, -1.16818196],\n",
       "       [ 0.39084602, -0.30662816,  0.57572094,  0.30038965],\n",
       "       [ 0.26199568, -1.85824052,  0.74988862,  0.43389616],\n",
       "       [ 0.64854669,  0.58000748,  0.57572094,  0.56740267],\n",
       "       [-1.15535802,  0.13668966, -1.28206764, -1.43519498],\n",
       "       [-1.15535802, -1.19326379,  0.45960915,  0.70090918],\n",
       "       [ 0.77739703,  0.35834857,  0.45960915,  0.43389616],\n",
       "       [-1.02650768, -2.30155834, -0.12094978, -0.23363639],\n",
       "       [ 1.55049905,  0.35834857,  0.57572094,  0.30038965],\n",
       "       [-0.382256  ,  2.57493766, -1.34012353, -1.30168847],\n",
       "       [ 0.00429501, -0.74994597,  0.80794451,  0.96792219],\n",
       "       [ 0.77739703, -0.52828707,  1.09822398,  1.23493521],\n",
       "       [ 0.13314535,  0.35834857,  0.63377683,  0.83441569],\n",
       "       [ 0.51969636, -0.30662816,  0.34349737,  0.16688314],\n",
       "       [ 0.26199568,  0.80166639,  0.45960915,  0.56740267],\n",
       "       [ 2.4524514 , -0.97160488,  1.85295058,  1.50194823],\n",
       "       [-0.25340566, -0.52828707,  0.69183272,  1.1014287 ],\n",
       "       [-0.382256  ,  1.0233253 , -1.39817942, -1.30168847],\n",
       "       [-0.76880701,  0.80166639, -1.34012353, -1.30168847],\n",
       "       [-1.15535802,  0.13668966, -1.28206764, -1.43519498],\n",
       "       [-1.41305869,  0.35834857, -1.39817942, -1.30168847],\n",
       "       [-0.89765734,  1.68830202, -1.22401174, -1.30168847],\n",
       "       [ 0.90624737,  0.35834857,  0.80794451,  1.1014287 ],\n",
       "       [ 0.64854669,  0.80166639,  1.09822398,  1.63545474],\n",
       "       [ 0.13314535, -0.08496925,  0.28544147,  0.43389616],\n",
       "       [-0.25340566, -0.74994597,  0.28544147,  0.16688314]])"
      ]
     },
     "execution_count": 10,
     "metadata": {},
     "output_type": "execute_result"
    }
   ],
   "source": [
    "X_train"
   ]
  },
  {
   "cell_type": "code",
   "execution_count": 11,
   "metadata": {
    "colab": {
     "base_uri": "https://localhost:8080/"
    },
    "id": "L6pPJArzF3lR",
    "outputId": "7956fb67-7811-48ef-ae87-2cd172f09448"
   },
   "outputs": [
    {
     "data": {
      "text/plain": [
       "array([[ 0.64854669, -0.30662816,  1.09822398,  0.83441569],\n",
       "       [-1.54190903,  0.80166639, -1.34012353, -1.16818196],\n",
       "       [ 1.16394804,  0.13668966,  1.09822398,  1.63545474],\n",
       "       [-1.28420835,  0.13668966, -1.22401174, -1.30168847],\n",
       "       [-0.51110633,  1.90996093, -1.16595585, -1.03467545],\n",
       "       [ 1.16394804,  0.13668966,  0.40155326,  0.30038965],\n",
       "       [-1.54190903,  0.35834857, -1.34012353, -1.30168847],\n",
       "       [-1.28420835, -0.08496925, -1.34012353, -1.16818196],\n",
       "       [ 2.4524514 , -0.08496925,  1.38850344,  1.50194823],\n",
       "       [-0.12455533, -0.52828707,  0.22738558,  0.16688314],\n",
       "       [ 0.51969636, -0.52828707,  0.63377683,  0.83441569],\n",
       "       [ 2.4524514 , -0.52828707,  1.7368388 ,  1.1014287 ],\n",
       "       [-1.02650768,  1.2449842 , -1.34012353, -1.30168847],\n",
       "       [-0.25340566, -0.08496925,  0.22738558,  0.16688314],\n",
       "       [-0.63995667,  1.46664311, -1.28206764, -1.30168847],\n",
       "       [ 1.42164871,  0.13668966,  0.98211219,  1.23493521],\n",
       "       [-1.7996097 , -0.08496925, -1.39817942, -1.30168847],\n",
       "       [-0.76880701,  1.0233253 , -1.28206764, -1.30168847],\n",
       "       [-1.02650768,  1.0233253 , -1.22401174, -0.76766243],\n",
       "       [ 1.16394804, -1.19326379,  1.21433576,  0.83441569],\n",
       "       [ 0.64854669,  0.58000748,  1.33044755,  1.76896125],\n",
       "       [-0.12455533, -0.97160488, -0.12094978, -0.23363639],\n",
       "       [-0.382256  , -0.97160488,  0.40155326,  0.03337663],\n",
       "       [ 1.67934938, -0.08496925,  1.27239165,  1.23493521],\n",
       "       [ 0.90624737, -0.08496925,  0.8660004 ,  1.1014287 ],\n",
       "       [ 2.71015208,  1.68830202,  1.56267112,  1.1014287 ],\n",
       "       [ 1.0350977 , -0.08496925,  0.40155326,  0.30038965],\n",
       "       [ 1.16394804, -0.08496925,  0.8660004 ,  1.50194823],\n",
       "       [ 0.77739703,  0.13668966,  1.04016808,  0.83441569],\n",
       "       [ 1.42164871,  0.13668966,  0.69183272,  0.43389616]])"
      ]
     },
     "execution_count": 11,
     "metadata": {},
     "output_type": "execute_result"
    }
   ],
   "source": [
    "X_test"
   ]
  },
  {
   "cell_type": "markdown",
   "metadata": {
    "id": "WzKqfHn4GL47"
   },
   "source": [
    "Training and Predictions"
   ]
  },
  {
   "cell_type": "code",
   "execution_count": 15,
   "metadata": {
    "colab": {
     "base_uri": "https://localhost:8080/"
    },
    "id": "8d5VsWZJF5Js",
    "outputId": "2739fceb-0332-4d57-a341-4ac44742462a"
   },
   "outputs": [
    {
     "data": {
      "text/html": [
       "<style>#sk-container-id-1 {color: black;}#sk-container-id-1 pre{padding: 0;}#sk-container-id-1 div.sk-toggleable {background-color: white;}#sk-container-id-1 label.sk-toggleable__label {cursor: pointer;display: block;width: 100%;margin-bottom: 0;padding: 0.3em;box-sizing: border-box;text-align: center;}#sk-container-id-1 label.sk-toggleable__label-arrow:before {content: \"▸\";float: left;margin-right: 0.25em;color: #696969;}#sk-container-id-1 label.sk-toggleable__label-arrow:hover:before {color: black;}#sk-container-id-1 div.sk-estimator:hover label.sk-toggleable__label-arrow:before {color: black;}#sk-container-id-1 div.sk-toggleable__content {max-height: 0;max-width: 0;overflow: hidden;text-align: left;background-color: #f0f8ff;}#sk-container-id-1 div.sk-toggleable__content pre {margin: 0.2em;color: black;border-radius: 0.25em;background-color: #f0f8ff;}#sk-container-id-1 input.sk-toggleable__control:checked~div.sk-toggleable__content {max-height: 200px;max-width: 100%;overflow: auto;}#sk-container-id-1 input.sk-toggleable__control:checked~label.sk-toggleable__label-arrow:before {content: \"▾\";}#sk-container-id-1 div.sk-estimator input.sk-toggleable__control:checked~label.sk-toggleable__label {background-color: #d4ebff;}#sk-container-id-1 div.sk-label input.sk-toggleable__control:checked~label.sk-toggleable__label {background-color: #d4ebff;}#sk-container-id-1 input.sk-hidden--visually {border: 0;clip: rect(1px 1px 1px 1px);clip: rect(1px, 1px, 1px, 1px);height: 1px;margin: -1px;overflow: hidden;padding: 0;position: absolute;width: 1px;}#sk-container-id-1 div.sk-estimator {font-family: monospace;background-color: #f0f8ff;border: 1px dotted black;border-radius: 0.25em;box-sizing: border-box;margin-bottom: 0.5em;}#sk-container-id-1 div.sk-estimator:hover {background-color: #d4ebff;}#sk-container-id-1 div.sk-parallel-item::after {content: \"\";width: 100%;border-bottom: 1px solid gray;flex-grow: 1;}#sk-container-id-1 div.sk-label:hover label.sk-toggleable__label {background-color: #d4ebff;}#sk-container-id-1 div.sk-serial::before {content: \"\";position: absolute;border-left: 1px solid gray;box-sizing: border-box;top: 0;bottom: 0;left: 50%;z-index: 0;}#sk-container-id-1 div.sk-serial {display: flex;flex-direction: column;align-items: center;background-color: white;padding-right: 0.2em;padding-left: 0.2em;position: relative;}#sk-container-id-1 div.sk-item {position: relative;z-index: 1;}#sk-container-id-1 div.sk-parallel {display: flex;align-items: stretch;justify-content: center;background-color: white;position: relative;}#sk-container-id-1 div.sk-item::before, #sk-container-id-1 div.sk-parallel-item::before {content: \"\";position: absolute;border-left: 1px solid gray;box-sizing: border-box;top: 0;bottom: 0;left: 50%;z-index: -1;}#sk-container-id-1 div.sk-parallel-item {display: flex;flex-direction: column;z-index: 1;position: relative;background-color: white;}#sk-container-id-1 div.sk-parallel-item:first-child::after {align-self: flex-end;width: 50%;}#sk-container-id-1 div.sk-parallel-item:last-child::after {align-self: flex-start;width: 50%;}#sk-container-id-1 div.sk-parallel-item:only-child::after {width: 0;}#sk-container-id-1 div.sk-dashed-wrapped {border: 1px dashed gray;margin: 0 0.4em 0.5em 0.4em;box-sizing: border-box;padding-bottom: 0.4em;background-color: white;}#sk-container-id-1 div.sk-label label {font-family: monospace;font-weight: bold;display: inline-block;line-height: 1.2em;}#sk-container-id-1 div.sk-label-container {text-align: center;}#sk-container-id-1 div.sk-container {/* jupyter's `normalize.less` sets `[hidden] { display: none; }` but bootstrap.min.css set `[hidden] { display: none !important; }` so we also need the `!important` here to be able to override the default hidden behavior on the sphinx rendered scikit-learn.org. See: https://github.com/scikit-learn/scikit-learn/issues/21755 */display: inline-block !important;position: relative;}#sk-container-id-1 div.sk-text-repr-fallback {display: none;}</style><div id=\"sk-container-id-1\" class=\"sk-top-container\"><div class=\"sk-text-repr-fallback\"><pre>KNeighborsClassifier()</pre><b>In a Jupyter environment, please rerun this cell to show the HTML representation or trust the notebook. <br />On GitHub, the HTML representation is unable to render, please try loading this page with nbviewer.org.</b></div><div class=\"sk-container\" hidden><div class=\"sk-item\"><div class=\"sk-estimator sk-toggleable\"><input class=\"sk-toggleable__control sk-hidden--visually\" id=\"sk-estimator-id-1\" type=\"checkbox\" checked><label for=\"sk-estimator-id-1\" class=\"sk-toggleable__label sk-toggleable__label-arrow\">KNeighborsClassifier</label><div class=\"sk-toggleable__content\"><pre>KNeighborsClassifier()</pre></div></div></div></div></div>"
      ],
      "text/plain": [
       "KNeighborsClassifier()"
      ]
     },
     "execution_count": 15,
     "metadata": {},
     "output_type": "execute_result"
    }
   ],
   "source": [
    "from sklearn.neighbors import KNeighborsClassifier\n",
    "classifier = KNeighborsClassifier(n_neighbors=5)\n",
    "classifier.fit(X_train, y_train)"
   ]
  },
  {
   "cell_type": "markdown",
   "metadata": {
    "id": "jSnXCEYHGF_C"
   },
   "source": [
    "# The first step is to import the KNeighborsClassifier class from the sklearn.neighbors library.\n",
    "\n",
    "In the second line, this class is initialized with one parameter, i.e. n_neigbours. \n",
    "\n",
    "This is basically the value for the K. \n",
    "\n",
    "There is no ideal value for K and it is selected after testing and evaluation, however to start out, 5 seems to be the most commonly used value for KNN algorithm."
   ]
  },
  {
   "cell_type": "markdown",
   "metadata": {
    "id": "0UDiuVV3GPPj"
   },
   "source": [
    "The final step is to make predictions on our test data."
   ]
  },
  {
   "cell_type": "code",
   "execution_count": 16,
   "metadata": {
    "id": "TrfWwZR1F70H"
   },
   "outputs": [],
   "source": [
    "y_pred = classifier.predict(X_test)"
   ]
  },
  {
   "cell_type": "code",
   "execution_count": 17,
   "metadata": {
    "colab": {
     "base_uri": "https://localhost:8080/"
    },
    "id": "KBzRftaNGQ8l",
    "outputId": "57d8311c-5847-441b-8383-d048920c834b"
   },
   "outputs": [
    {
     "data": {
      "text/plain": [
       "array(['Iris-virginica', 'Iris-setosa', 'Iris-virginica', 'Iris-setosa',\n",
       "       'Iris-setosa', 'Iris-versicolor', 'Iris-setosa', 'Iris-setosa',\n",
       "       'Iris-virginica', 'Iris-versicolor', 'Iris-virginica',\n",
       "       'Iris-virginica', 'Iris-setosa', 'Iris-versicolor', 'Iris-setosa',\n",
       "       'Iris-virginica', 'Iris-setosa', 'Iris-setosa', 'Iris-setosa',\n",
       "       'Iris-virginica', 'Iris-virginica', 'Iris-versicolor',\n",
       "       'Iris-versicolor', 'Iris-virginica', 'Iris-virginica',\n",
       "       'Iris-virginica', 'Iris-versicolor', 'Iris-virginica',\n",
       "       'Iris-virginica', 'Iris-versicolor'], dtype=object)"
      ]
     },
     "execution_count": 17,
     "metadata": {},
     "output_type": "execute_result"
    }
   ],
   "source": [
    "y_pred"
   ]
  },
  {
   "cell_type": "markdown",
   "metadata": {
    "id": "tSyloN0iGVvi"
   },
   "source": [
    "Evaluating the Algorithm"
   ]
  },
  {
   "cell_type": "code",
   "execution_count": 19,
   "metadata": {
    "colab": {
     "base_uri": "https://localhost:8080/"
    },
    "id": "f0U4ZjdZGVki",
    "outputId": "7d6b8a78-0b78-4b14-8693-dda986cbbf4f"
   },
   "outputs": [
    {
     "name": "stdout",
     "output_type": "stream",
     "text": [
      "[[10  0  0]\n",
      " [ 0  7  0]\n",
      " [ 0  0 13]]\n",
      "\n",
      "*****************************************************************\n",
      "\n",
      "                 precision    recall  f1-score   support\n",
      "\n",
      "    Iris-setosa       1.00      1.00      1.00        10\n",
      "Iris-versicolor       1.00      1.00      1.00         7\n",
      " Iris-virginica       1.00      1.00      1.00        13\n",
      "\n",
      "       accuracy                           1.00        30\n",
      "      macro avg       1.00      1.00      1.00        30\n",
      "   weighted avg       1.00      1.00      1.00        30\n",
      "\n"
     ]
    }
   ],
   "source": [
    "from sklearn.metrics import classification_report, confusion_matrix\n",
    "\n",
    "print(confusion_matrix(y_test, y_pred))\n",
    "print()\n",
    "print(\"*****************************************************************\")\n",
    "print()\n",
    "print(classification_report(y_test, y_pred))"
   ]
  },
  {
   "cell_type": "markdown",
   "metadata": {
    "id": "gfBARcujGu1C"
   },
   "source": [
    "##Comparing Error Rate with the K Value"
   ]
  },
  {
   "cell_type": "code",
   "execution_count": 20,
   "metadata": {
    "id": "9kH8hH_DGTA4"
   },
   "outputs": [],
   "source": [
    "error = []\n",
    "\n",
    "# Calculating error for K values between 1 and 40\n",
    "for i in range(1, 40):\n",
    "    knn = KNeighborsClassifier(n_neighbors=i)\n",
    "    knn.fit(X_train, y_train)\n",
    "    pred_i = knn.predict(X_test)\n",
    "    error.append(np.mean(pred_i != y_test))"
   ]
  },
  {
   "cell_type": "markdown",
   "metadata": {
    "id": "eHNuwFRzHHGY"
   },
   "source": [
    "we will plot the mean error for the predicted values of test set for all the K values between 1 and 40."
   ]
  },
  {
   "cell_type": "markdown",
   "metadata": {
    "id": "Ct98MKs8HLrU"
   },
   "source": [
    "The above script executes a loop from 1 to 40. In each iteration the mean error for predicted values of test set is calculated and the result is appended to the error list."
   ]
  },
  {
   "cell_type": "markdown",
   "metadata": {
    "id": "iXCk5l9NHOQ1"
   },
   "source": [
    "The next step is to plot the error values against K values. Execute the following script to create the plot:"
   ]
  },
  {
   "cell_type": "code",
   "execution_count": 17,
   "metadata": {
    "colab": {
     "base_uri": "https://localhost:8080/",
     "height": 422
    },
    "id": "cAiZZ4lQHHxw",
    "outputId": "ae32eb83-b6e7-4fac-f842-6c1af7857f68"
   },
   "outputs": [
    {
     "data": {
      "text/plain": [
       "Text(0, 0.5, 'Mean Error')"
      ]
     },
     "execution_count": 17,
     "metadata": {},
     "output_type": "execute_result"
    },
    {
     "data": {
      "image/png": "[encoded data removed]",
      "text/plain": [
       "<Figure size 1200x600 with 1 Axes>"
      ]
     },
     "metadata": {},
     "output_type": "display_data"
    }
   ],
   "source": [
    "plt.figure(figsize=(12, 6))\n",
    "plt.plot(range(1, 40), error, color='red', linestyle='dashed', marker='o',\n",
    "         markerfacecolor='blue', markersize=10)\n",
    "plt.title('Error Rate K Value')\n",
    "plt.xlabel('K Value')\n",
    "plt.ylabel('Mean Error')"
   ]
  },
  {
   "cell_type": "code",
   "execution_count": null,
   "metadata": {
    "id": "g2ctVlBqHQ0j"
   },
   "outputs": [],
   "source": []
  },
  {
   "cell_type": "code",
   "execution_count": null,
   "metadata": {},
   "outputs": [],
   "source": []
  }
 ],
 "metadata": {
  "colab": {
   "name": "KNN_IRIS_Data.ipynb",
   "provenance": []
  },
  "kernelspec": {
   "display_name": "Python 3 (ipykernel)",
   "language": "python",
   "name": "python3"
  },
  "language_info": {
   "codemirror_mode": {
    "name": "ipython",
    "version": 3
   },
   "file_extension": ".py",
   "mimetype": "text/x-python",
   "name": "python",
   "nbconvert_exporter": "python",
   "pygments_lexer": "ipython3",
   "version": "3.11.5"
  }
 },
 "nbformat": 4,
 "nbformat_minor": 1
}
