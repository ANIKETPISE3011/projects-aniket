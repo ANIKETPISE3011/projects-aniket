{
 "cells": [
  {
   "cell_type": "code",
   "execution_count": 1,
   "id": "230a4711",
   "metadata": {},
   "outputs": [],
   "source": [
    "# Generating the Training Set\n",
    "\n",
    "# python library to generate random numbers\n",
    "from random import randint\n",
    "\n",
    "# the limit within which random numbers are generated\n",
    "TRAIN_SET_LIMIT = 1000\n",
    "\n",
    "# to create exactly 100 data items\n",
    "TRAIN_SET_COUNT = 100\n",
    "\n",
    "# list that contains input and corresponding output\n",
    "TRAIN_INPUT = list()\n",
    "TRAIN_OUTPUT = list()\n",
    "\n"
   ]
  },
  {
   "cell_type": "code",
   "execution_count": 2,
   "id": "a29072b2",
   "metadata": {},
   "outputs": [],
   "source": [
    "# loop to create 100 data items with three columns each\n",
    "for i in range(TRAIN_SET_COUNT):\n",
    "\ta = randint(0, TRAIN_SET_LIMIT)\n",
    "\tb = randint(0, TRAIN_SET_LIMIT)\n",
    "\tc = randint(0, TRAIN_SET_LIMIT)\n",
    "\n",
    "# creating the output for each data item\n",
    "\top = a + (2 * b) + (3 * c)\n",
    "\tTRAIN_INPUT.append([a, b, c])\n",
    "\n",
    "# adding each output to output list\n",
    "\tTRAIN_OUTPUT.append(op)"
   ]
  },
  {
   "cell_type": "code",
   "execution_count": 3,
   "id": "a2b338af",
   "metadata": {},
   "outputs": [
    {
     "data": {
      "text/plain": [
       "[2646, 3421, 1718, 3394, 4562, 2896, 614, 4563, 3206, 3603]"
      ]
     },
     "execution_count": 3,
     "metadata": {},
     "output_type": "execute_result"
    }
   ],
   "source": [
    "# printing first 10 records \n",
    "TRAIN_OUTPUT[:10]\n",
    "     "
   ]
  },
  {
   "cell_type": "code",
   "execution_count": 4,
   "id": "1d76a309",
   "metadata": {},
   "outputs": [
    {
     "data": {
      "text/plain": [
       "[[838, 376, 352],\n",
       " [419, 811, 460],\n",
       " [578, 282, 192],\n",
       " [77, 205, 969],\n",
       " [202, 851, 886],\n",
       " [709, 777, 211],\n",
       " [453, 10, 47],\n",
       " [473, 848, 798],\n",
       " [615, 913, 255],\n",
       " [552, 699, 551]]"
      ]
     },
     "execution_count": 4,
     "metadata": {},
     "output_type": "execute_result"
    }
   ],
   "source": [
    "# printing first 10 records\n",
    "TRAIN_INPUT[:10]"
   ]
  },
  {
   "cell_type": "markdown",
   "id": "fc0592ab",
   "metadata": {},
   "source": [
    "# The Model can be created in two steps:-\n",
    "\n",
    "Training the model with Training Data\n",
    "\n",
    "Testing the model with Test Data "
   ]
  },
  {
   "cell_type": "code",
   "execution_count": 5,
   "id": "709236f7",
   "metadata": {},
   "outputs": [
    {
     "data": {
      "text/plain": [
       "LinearRegression(n_jobs=-1)"
      ]
     },
     "execution_count": 5,
     "metadata": {},
     "output_type": "execute_result"
    }
   ],
   "source": [
    "# Training the Model\n",
    "# The data that was created using the above code is used to train the model\n",
    "\n",
    "# Sk-Learn contains the linear regression model\n",
    "from sklearn.linear_model import LinearRegression\n",
    "\n",
    "# Initialize the linear regression model\n",
    "predictor = LinearRegression(n_jobs =-1)\n",
    "\n",
    "# Fill the Model with the Data\n",
    "predictor.fit(X = TRAIN_INPUT, y = TRAIN_OUTPUT)\n"
   ]
  },
  {
   "cell_type": "markdown",
   "id": "49689a62",
   "metadata": {},
   "source": [
    "# Testing the Data\n",
    "\n",
    "The testing is done Manually. Testing can be done using some random data and testing if the model gives the correct result for the input data.\n",
    "\n"
   ]
  },
  {
   "cell_type": "code",
   "execution_count": 6,
   "id": "5dc1b0c6",
   "metadata": {},
   "outputs": [
    {
     "name": "stdout",
     "output_type": "stream",
     "text": [
      "Outcome : [140.]\n",
      "Coefficients : [1. 2. 3.]\n"
     ]
    }
   ],
   "source": [
    "# Random Test data\n",
    "X_TEST = [[ 10, 20, 30 ]]   #---> 10 + 20*2 + 30*3 = 140.\n",
    "\n",
    "# Predict the result of X_TEST which holds testing data\n",
    "outcome = predictor.predict(X = X_TEST)\n",
    "\n",
    "# Predict the coefficients\n",
    "coefficients = predictor.coef_\n",
    "\n",
    "# Print the result obtained for the test data\n",
    "print('Outcome : {}\\nCoefficients : {}'.format(outcome, coefficients))"
   ]
  },
  {
   "cell_type": "code",
   "execution_count": null,
   "id": "dc075ee9",
   "metadata": {},
   "outputs": [],
   "source": []
  }
 ],
 "metadata": {
  "kernelspec": {
   "display_name": "Python 3 (ipykernel)",
   "language": "python",
   "name": "python3"
  },
  "language_info": {
   "codemirror_mode": {
    "name": "ipython",
    "version": 3
   },
   "file_extension": ".py",
   "mimetype": "text/x-python",
   "name": "python",
   "nbconvert_exporter": "python",
   "pygments_lexer": "ipython3",
   "version": "3.9.13"
  }
 },
 "nbformat": 4,
 "nbformat_minor": 5
}
